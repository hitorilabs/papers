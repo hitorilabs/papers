{
 "cells": [
  {
   "cell_type": "code",
   "execution_count": 136,
   "metadata": {},
   "outputs": [
    {
     "name": "stderr",
     "output_type": "stream",
     "text": [
      "Map: 100%|██████████| 15/15 [00:00<00:00, 4549.47 examples/s]\n",
      "Map: 100%|██████████| 135/135 [00:00<00:00, 11127.44 examples/s]"
     ]
    },
    {
     "name": "stdout",
     "output_type": "stream",
     "text": [
      "94.07% (127/135)\n"
     ]
    },
    {
     "name": "stderr",
     "output_type": "stream",
     "text": [
      "\n"
     ]
    }
   ],
   "source": [
    "from datasets import load_dataset\n",
    "import numpy as np\n",
    "import xgboost as xgb\n",
    "\n",
    "dataset = load_dataset(\n",
    "    \"hitorilabs/iris\", \n",
    "    split=\"train\", \n",
    "    )\n",
    "\n",
    "# keep the int2str mapping to retrieve string labels\n",
    "itos = dataset.features[\"species\"].int2str\n",
    "\n",
    "dataset = dataset.train_test_split(test_size=0.9, stratify_by_column=\"species\")\n",
    "X_train = dataset[\"train\"].map(remove_columns=[\"species\"]).to_pandas().to_numpy()\n",
    "y_train = np.array(dataset[\"train\"][\"species\"])\n",
    "\n",
    "X_test = dataset[\"test\"].map(remove_columns=[\"species\"]).to_pandas().to_numpy()\n",
    "y_test = np.array(dataset[\"test\"][\"species\"])\n",
    "\n",
    "# Create DMatrix for train and test\n",
    "dtrain = xgb.DMatrix(X_train, label=y_train)\n",
    "dtest = xgb.DMatrix(X_test, label=y_test)\n",
    "\n",
    "NUM_CLASSES = 3\n",
    "# Set hyperparameters\n",
    "params = {\n",
    "    'objective': 'multi:softprob',\n",
    "    'max_depth': 15,\n",
    "    'learning_rate': 0.1,\n",
    "    'num_class': NUM_CLASSES,\n",
    "}\n",
    "\n",
    "# Train the model\n",
    "num_rounds = 100\n",
    "bst = xgb.train(params, dtrain, num_rounds)\n",
    "\n",
    "# Make predictions\n",
    "preds = bst.predict(dtest)\n",
    "\n",
    "acc = sum(dataset[\"test\"][\"species\"] == preds.argmax(axis=1)) / len(dataset[\"test\"])\n",
    "\n",
    "print(f\"\"\"{acc:.2%} ({sum(dataset[\"test\"][\"species\"] == preds.argmax(axis=1))}/{len(dataset[\"test\"])})\"\"\")"
   ]
  },
  {
   "cell_type": "code",
   "execution_count": 126,
   "metadata": {},
   "outputs": [
    {
     "data": {
      "image/png": "[encoded data removed]",
      "text/plain": [
       "<Figure size 640x480 with 2 Axes>"
      ]
     },
     "metadata": {},
     "output_type": "display_data"
    }
   ],
   "source": [
    "import matplotlib.pyplot as plt\n",
    "\n",
    "from collections import Counter\n",
    "\n",
    "fig, ax = plt.subplots()\n",
    "\n",
    "pred_matrix = np.zeros((NUM_CLASSES, NUM_CLASSES))\n",
    "for [x,y], count in Counter(zip(y_test,preds.argmax(axis=1))).items():\n",
    "    pred_matrix[x,y] = count\n",
    "    ax.text(y,x,  count, ha='center', va='center')\n",
    "\n",
    "ax.set_xlabel('Predicted Class')\n",
    "ax.set_ylabel('Actual Class')\n",
    "fig.colorbar(ax.matshow(pred_matrix, cmap='Blues'))\n",
    "fig.show()"
   ]
  },
  {
   "cell_type": "code",
   "execution_count": 120,
   "metadata": {},
   "outputs": [
    {
     "name": "stdout",
     "output_type": "stream",
     "text": [
      "Class Iris-setosa          Precision: 100.00%  Recall: 100.00%  F1: 100.00% \n",
      "Class Iris-versicolor      Precision: 94.81%   Recall: 94.81%   F1: 94.81%  \n",
      "Class Iris-virginica       Precision: 94.81%   Recall: 94.81%   F1: 94.81%  \n"
     ]
    }
   ],
   "source": [
    "def precision_recall_f1(y_true, y_pred, class_label):\n",
    "    TP = np.sum((y_true == class_label) == (y_pred == class_label))\n",
    "    FP = np.sum((y_true != class_label) == (y_pred == class_label))\n",
    "    FN = np.sum((y_true == class_label) == (y_pred != class_label))\n",
    "    \n",
    "    precision = TP / (TP + FP) if (TP + FP) > 0 else 0\n",
    "    recall = TP / (TP + FN) if (TP + FN) > 0 else 0\n",
    "    f1 = 2 * (precision * recall) / (precision + recall) if precision + recall > 0 else 0\n",
    "    \n",
    "    return class_label, precision, recall, f1\n",
    "\n",
    "results = (precision_recall_f1(y_test, preds.argmax(axis=1), class_label) for class_label in range(NUM_CLASSES))\n",
    "\n",
    "for class_label, precision, recall, f1 in results:\n",
    "    print(f\"Class {itos(class_label):<20} Precision: {precision:<8.2%} Recall: {recall:<8.2%} F1: {f1:<8.2%}\")"
   ]
  }
 ],
 "metadata": {
  "kernelspec": {
   "display_name": ".venv",
   "language": "python",
   "name": "python3"
  },
  "language_info": {
   "codemirror_mode": {
    "name": "ipython",
    "version": 3
   },
   "file_extension": ".py",
   "mimetype": "text/x-python",
   "name": "python",
   "nbconvert_exporter": "python",
   "pygments_lexer": "ipython3",
   "version": "3.11.4"
  },
  "orig_nbformat": 4
 },
 "nbformat": 4,
 "nbformat_minor": 2
}
